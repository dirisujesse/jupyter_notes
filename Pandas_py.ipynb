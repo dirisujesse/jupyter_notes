{
 "cells": [
  {
   "cell_type": "code",
   "execution_count": null,
   "metadata": {
    "collapsed": true
   },
   "outputs": [],
   "source": [
    "#getting started\n",
    "import numpy as np\n",
    "import pandas as pd\n",
    "import matplotlib.pyplot as plt"
   ]
  },
  {
   "cell_type": "code",
   "execution_count": 6,
   "metadata": {
    "collapsed": false
   },
   "outputs": [
    {
     "data": {
      "text/plain": [
       "0    1.0\n",
       "1    3.0\n",
       "2    5.0\n",
       "3    NaN\n",
       "4    6.0\n",
       "5    8.0\n",
       "dtype: float64"
      ]
     },
     "execution_count": 6,
     "metadata": {},
     "output_type": "execute_result"
    }
   ],
   "source": [
    "#initializing a pandas object with an array of values\n",
    "s = pd.Series([1,3,5,np.nan,6,8])\n",
    "s"
   ]
  },
  {
   "cell_type": "code",
   "execution_count": 7,
   "metadata": {
    "collapsed": false
   },
   "outputs": [
    {
     "data": {
      "text/plain": [
       "DatetimeIndex(['1994-12-12', '1994-12-13', '1994-12-14', '1994-12-15',\n",
       "               '1994-12-16', '1994-12-17', '1994-12-18'],\n",
       "              dtype='datetime64[ns]', freq='D')"
      ]
     },
     "execution_count": 7,
     "metadata": {},
     "output_type": "execute_result"
    }
   ],
   "source": [
    "#passing date data into pandas\n",
    "#a date like Dec 12, 1994 could be passed as\n",
    "num = pd.date_range('19941212', periods=7)\n",
    "num"
   ]
  },
  {
   "cell_type": "code",
   "execution_count": 9,
   "metadata": {
    "collapsed": false
   },
   "outputs": [
    {
     "data": {
      "text/html": [
       "<div>\n",
       "<table border=\"1\" class=\"dataframe\">\n",
       "  <thead>\n",
       "    <tr style=\"text-align: right;\">\n",
       "      <th></th>\n",
       "      <th>mouse</th>\n",
       "      <th>dog</th>\n",
       "      <th>duck</th>\n",
       "      <th>cat</th>\n",
       "    </tr>\n",
       "  </thead>\n",
       "  <tbody>\n",
       "    <tr>\n",
       "      <th>1994-12-12</th>\n",
       "      <td>-0.510595</td>\n",
       "      <td>2.440741</td>\n",
       "      <td>0.196158</td>\n",
       "      <td>1.461111</td>\n",
       "    </tr>\n",
       "    <tr>\n",
       "      <th>1994-12-13</th>\n",
       "      <td>-0.222737</td>\n",
       "      <td>0.691845</td>\n",
       "      <td>-0.147522</td>\n",
       "      <td>1.585306</td>\n",
       "    </tr>\n",
       "    <tr>\n",
       "      <th>1994-12-14</th>\n",
       "      <td>-1.070032</td>\n",
       "      <td>0.860315</td>\n",
       "      <td>-1.496106</td>\n",
       "      <td>-1.026409</td>\n",
       "    </tr>\n",
       "    <tr>\n",
       "      <th>1994-12-15</th>\n",
       "      <td>-1.423014</td>\n",
       "      <td>0.904674</td>\n",
       "      <td>0.390323</td>\n",
       "      <td>0.733042</td>\n",
       "    </tr>\n",
       "    <tr>\n",
       "      <th>1994-12-16</th>\n",
       "      <td>0.793124</td>\n",
       "      <td>-0.213932</td>\n",
       "      <td>-0.140568</td>\n",
       "      <td>0.705547</td>\n",
       "    </tr>\n",
       "    <tr>\n",
       "      <th>1994-12-17</th>\n",
       "      <td>-1.131714</td>\n",
       "      <td>0.033625</td>\n",
       "      <td>1.865184</td>\n",
       "      <td>0.703420</td>\n",
       "    </tr>\n",
       "    <tr>\n",
       "      <th>1994-12-18</th>\n",
       "      <td>-0.814719</td>\n",
       "      <td>-0.545536</td>\n",
       "      <td>1.376404</td>\n",
       "      <td>-1.078491</td>\n",
       "    </tr>\n",
       "  </tbody>\n",
       "</table>\n",
       "</div>"
      ],
      "text/plain": [
       "               mouse       dog      duck       cat\n",
       "1994-12-12 -0.510595  2.440741  0.196158  1.461111\n",
       "1994-12-13 -0.222737  0.691845 -0.147522  1.585306\n",
       "1994-12-14 -1.070032  0.860315 -1.496106 -1.026409\n",
       "1994-12-15 -1.423014  0.904674  0.390323  0.733042\n",
       "1994-12-16  0.793124 -0.213932 -0.140568  0.705547\n",
       "1994-12-17 -1.131714  0.033625  1.865184  0.703420\n",
       "1994-12-18 -0.814719 -0.545536  1.376404 -1.078491"
      ]
     },
     "execution_count": 9,
     "metadata": {},
     "output_type": "execute_result"
    }
   ],
   "source": [
    "#creating data frames with numpy\n",
    "dat = pd.DataFrame(np.random.randn(7,4), index=num, columns={'dog','cat','mouse','duck'})\n",
    "dat"
   ]
  },
  {
   "cell_type": "code",
   "execution_count": 11,
   "metadata": {
    "collapsed": false
   },
   "outputs": [
    {
     "data": {
      "text/html": [
       "<div>\n",
       "<table border=\"1\" class=\"dataframe\">\n",
       "  <thead>\n",
       "    <tr style=\"text-align: right;\">\n",
       "      <th></th>\n",
       "      <th>A</th>\n",
       "      <th>B</th>\n",
       "      <th>C</th>\n",
       "      <th>D</th>\n",
       "      <th>E</th>\n",
       "      <th>F</th>\n",
       "    </tr>\n",
       "  </thead>\n",
       "  <tbody>\n",
       "    <tr>\n",
       "      <th>0</th>\n",
       "      <td>1</td>\n",
       "      <td>1994-12-12</td>\n",
       "      <td>1.0</td>\n",
       "      <td>3</td>\n",
       "      <td>Test</td>\n",
       "      <td>Foo</td>\n",
       "    </tr>\n",
       "    <tr>\n",
       "      <th>1</th>\n",
       "      <td>1</td>\n",
       "      <td>1994-12-12</td>\n",
       "      <td>1.0</td>\n",
       "      <td>3</td>\n",
       "      <td>Train</td>\n",
       "      <td>Foo</td>\n",
       "    </tr>\n",
       "    <tr>\n",
       "      <th>2</th>\n",
       "      <td>1</td>\n",
       "      <td>1994-12-12</td>\n",
       "      <td>1.0</td>\n",
       "      <td>3</td>\n",
       "      <td>Test</td>\n",
       "      <td>Foo</td>\n",
       "    </tr>\n",
       "    <tr>\n",
       "      <th>3</th>\n",
       "      <td>1</td>\n",
       "      <td>1994-12-12</td>\n",
       "      <td>1.0</td>\n",
       "      <td>3</td>\n",
       "      <td>Train</td>\n",
       "      <td>Foo</td>\n",
       "    </tr>\n",
       "  </tbody>\n",
       "</table>\n",
       "</div>"
      ],
      "text/plain": [
       "   A          B    C  D      E    F\n",
       "0  1 1994-12-12  1.0  3   Test  Foo\n",
       "1  1 1994-12-12  1.0  3  Train  Foo\n",
       "2  1 1994-12-12  1.0  3   Test  Foo\n",
       "3  1 1994-12-12  1.0  3  Train  Foo"
      ]
     },
     "execution_count": 11,
     "metadata": {},
     "output_type": "execute_result"
    }
   ],
   "source": [
    "#creating data frames from json objects/dictionaries\n",
    "frame =  pd.DataFrame({\n",
    "        'A':1,\n",
    "        'B':pd.Timestamp('19941212'),\n",
    "        'C':pd.Series(1,index=list(range(4)),dtype='float32'),\n",
    "        'D':np.array([3]*4,dtype='int32'),\n",
    "        'E':pd.Categorical(['Test','Train','Test','Train']),\n",
    "        'F':'Foo'})\n",
    "frame"
   ]
  },
  {
   "cell_type": "code",
   "execution_count": 17,
   "metadata": {
    "collapsed": false
   },
   "outputs": [
    {
     "data": {
      "text/html": [
       "<div>\n",
       "<table border=\"1\" class=\"dataframe\">\n",
       "  <thead>\n",
       "    <tr style=\"text-align: right;\">\n",
       "      <th></th>\n",
       "      <th>0</th>\n",
       "      <th>1</th>\n",
       "      <th>2</th>\n",
       "      <th>3</th>\n",
       "    </tr>\n",
       "  </thead>\n",
       "  <tbody>\n",
       "    <tr>\n",
       "      <th>A</th>\n",
       "      <td>1</td>\n",
       "      <td>1</td>\n",
       "      <td>1</td>\n",
       "      <td>1</td>\n",
       "    </tr>\n",
       "    <tr>\n",
       "      <th>B</th>\n",
       "      <td>1994-12-12 00:00:00</td>\n",
       "      <td>1994-12-12 00:00:00</td>\n",
       "      <td>1994-12-12 00:00:00</td>\n",
       "      <td>1994-12-12 00:00:00</td>\n",
       "    </tr>\n",
       "    <tr>\n",
       "      <th>C</th>\n",
       "      <td>1</td>\n",
       "      <td>1</td>\n",
       "      <td>1</td>\n",
       "      <td>1</td>\n",
       "    </tr>\n",
       "    <tr>\n",
       "      <th>D</th>\n",
       "      <td>3</td>\n",
       "      <td>3</td>\n",
       "      <td>3</td>\n",
       "      <td>3</td>\n",
       "    </tr>\n",
       "    <tr>\n",
       "      <th>E</th>\n",
       "      <td>Test</td>\n",
       "      <td>Train</td>\n",
       "      <td>Test</td>\n",
       "      <td>Train</td>\n",
       "    </tr>\n",
       "    <tr>\n",
       "      <th>F</th>\n",
       "      <td>Foo</td>\n",
       "      <td>Foo</td>\n",
       "      <td>Foo</td>\n",
       "      <td>Foo</td>\n",
       "    </tr>\n",
       "  </tbody>\n",
       "</table>\n",
       "</div>"
      ],
      "text/plain": [
       "                     0                    1                    2  \\\n",
       "A                    1                    1                    1   \n",
       "B  1994-12-12 00:00:00  1994-12-12 00:00:00  1994-12-12 00:00:00   \n",
       "C                    1                    1                    1   \n",
       "D                    3                    3                    3   \n",
       "E                 Test                Train                 Test   \n",
       "F                  Foo                  Foo                  Foo   \n",
       "\n",
       "                     3  \n",
       "A                    1  \n",
       "B  1994-12-12 00:00:00  \n",
       "C                    1  \n",
       "D                    3  \n",
       "E                Train  \n",
       "F                  Foo  "
      ]
     },
     "execution_count": 17,
     "metadata": {},
     "output_type": "execute_result"
    }
   ],
   "source": [
    "#dataframe method\n",
    "#the include the .index,.values,.columns, .T\n",
    "frame.describe()\n",
    "frame.T"
   ]
  },
  {
   "cell_type": "code",
   "execution_count": 22,
   "metadata": {
    "collapsed": false
   },
   "outputs": [
    {
     "data": {
      "text/html": [
       "<div>\n",
       "<table border=\"1\" class=\"dataframe\">\n",
       "  <thead>\n",
       "    <tr style=\"text-align: right;\">\n",
       "      <th></th>\n",
       "      <th>A</th>\n",
       "      <th>B</th>\n",
       "      <th>C</th>\n",
       "      <th>D</th>\n",
       "      <th>E</th>\n",
       "      <th>F</th>\n",
       "    </tr>\n",
       "  </thead>\n",
       "  <tbody>\n",
       "    <tr>\n",
       "      <th>3</th>\n",
       "      <td>1</td>\n",
       "      <td>1994-12-12</td>\n",
       "      <td>1.0</td>\n",
       "      <td>3</td>\n",
       "      <td>Train</td>\n",
       "      <td>Foo</td>\n",
       "    </tr>\n",
       "  </tbody>\n",
       "</table>\n",
       "</div>"
      ],
      "text/plain": [
       "   A          B    C  D      E    F\n",
       "3  1 1994-12-12  1.0  3  Train  Foo"
      ]
     },
     "execution_count": 22,
     "metadata": {},
     "output_type": "execute_result"
    }
   ],
   "source": [
    "#sorting data frames\n",
    "#the .sort method is method is used order the frame by some value e.g\n",
    "#items in the dataframe can be accessed like dictionaries\n",
    "#but the .head and .tail method aallow from the selection of the initial and end parts of the frame specifically \n",
    "#which take indexical arguments\n",
    "frame.tail(1)"
   ]
  },
  {
   "cell_type": "code",
   "execution_count": 31,
   "metadata": {
    "collapsed": false
   },
   "outputs": [],
   "source": [
    "#the .loc method allowes for the selection of multiple items with a range\n",
    "#frame.loc[:,['cat','dog']]\n",
    "#the mean, median, mode methods also are inherited by dataframe objects\n",
    "#to get the sum of values in an array the following numpy method can be called\n",
    "#frame.apply(np.cumsum)\n",
    "#or\n",
    "#frame.apply(lambda x: x.max() - x.min())"
   ]
  },
  {
   "cell_type": "code",
   "execution_count": 34,
   "metadata": {
    "collapsed": false
   },
   "outputs": [
    {
     "data": {
      "text/html": [
       "<div>\n",
       "<table border=\"1\" class=\"dataframe\">\n",
       "  <thead>\n",
       "    <tr style=\"text-align: right;\">\n",
       "      <th></th>\n",
       "      <th>A</th>\n",
       "      <th>B</th>\n",
       "      <th>C</th>\n",
       "      <th>D</th>\n",
       "      <th>E</th>\n",
       "      <th>F</th>\n",
       "    </tr>\n",
       "  </thead>\n",
       "  <tbody>\n",
       "    <tr>\n",
       "      <th>0</th>\n",
       "      <td>1</td>\n",
       "      <td>1994-12-12</td>\n",
       "      <td>1.0</td>\n",
       "      <td>3</td>\n",
       "      <td>Test</td>\n",
       "      <td>Foo</td>\n",
       "    </tr>\n",
       "    <tr>\n",
       "      <th>1</th>\n",
       "      <td>1</td>\n",
       "      <td>1994-12-12</td>\n",
       "      <td>1.0</td>\n",
       "      <td>3</td>\n",
       "      <td>Train</td>\n",
       "      <td>Foo</td>\n",
       "    </tr>\n",
       "    <tr>\n",
       "      <th>2</th>\n",
       "      <td>1</td>\n",
       "      <td>1994-12-12</td>\n",
       "      <td>1.0</td>\n",
       "      <td>3</td>\n",
       "      <td>Test</td>\n",
       "      <td>Foo</td>\n",
       "    </tr>\n",
       "    <tr>\n",
       "      <th>3</th>\n",
       "      <td>1</td>\n",
       "      <td>1994-12-12</td>\n",
       "      <td>1.0</td>\n",
       "      <td>3</td>\n",
       "      <td>Train</td>\n",
       "      <td>Foo</td>\n",
       "    </tr>\n",
       "    <tr>\n",
       "      <th>0</th>\n",
       "      <td>1</td>\n",
       "      <td>1994-12-12</td>\n",
       "      <td>1.0</td>\n",
       "      <td>3</td>\n",
       "      <td>Test</td>\n",
       "      <td>Foo</td>\n",
       "    </tr>\n",
       "    <tr>\n",
       "      <th>1</th>\n",
       "      <td>1</td>\n",
       "      <td>1994-12-12</td>\n",
       "      <td>1.0</td>\n",
       "      <td>3</td>\n",
       "      <td>Train</td>\n",
       "      <td>Foo</td>\n",
       "    </tr>\n",
       "    <tr>\n",
       "      <th>2</th>\n",
       "      <td>1</td>\n",
       "      <td>1994-12-12</td>\n",
       "      <td>1.0</td>\n",
       "      <td>3</td>\n",
       "      <td>Test</td>\n",
       "      <td>Foo</td>\n",
       "    </tr>\n",
       "    <tr>\n",
       "      <th>3</th>\n",
       "      <td>1</td>\n",
       "      <td>1994-12-12</td>\n",
       "      <td>1.0</td>\n",
       "      <td>3</td>\n",
       "      <td>Train</td>\n",
       "      <td>Foo</td>\n",
       "    </tr>\n",
       "  </tbody>\n",
       "</table>\n",
       "</div>"
      ],
      "text/plain": [
       "   A          B    C  D      E    F\n",
       "0  1 1994-12-12  1.0  3   Test  Foo\n",
       "1  1 1994-12-12  1.0  3  Train  Foo\n",
       "2  1 1994-12-12  1.0  3   Test  Foo\n",
       "3  1 1994-12-12  1.0  3  Train  Foo\n",
       "0  1 1994-12-12  1.0  3   Test  Foo\n",
       "1  1 1994-12-12  1.0  3  Train  Foo\n",
       "2  1 1994-12-12  1.0  3   Test  Foo\n",
       "3  1 1994-12-12  1.0  3  Train  Foo"
      ]
     },
     "execution_count": 34,
     "metadata": {},
     "output_type": "execute_result"
    }
   ],
   "source": [
    "#the .merge or .concat method are used to merge data frames\n",
    "f = frame.copy()\n",
    "k = pd.concat([frame, f])\n",
    "k"
   ]
  },
  {
   "cell_type": "code",
   "execution_count": null,
   "metadata": {
    "collapsed": true
   },
   "outputs": [],
   "source": [
    "#reading and writing to files\n",
    "#to write data_frame.to_csv/excel()\n",
    "#to read data_frame.read_csv/excel()"
   ]
  }
 ],
 "metadata": {
  "anaconda-cloud": {},
  "kernelspec": {
   "display_name": "Python [conda root]",
   "language": "python",
   "name": "conda-root-py"
  },
  "language_info": {
   "codemirror_mode": {
    "name": "ipython",
    "version": 3.0
   },
   "file_extension": ".py",
   "mimetype": "text/x-python",
   "name": "python",
   "nbconvert_exporter": "python",
   "pygments_lexer": "ipython3",
   "version": "3.5.2"
  }
 },
 "nbformat": 4,
 "nbformat_minor": 0
}