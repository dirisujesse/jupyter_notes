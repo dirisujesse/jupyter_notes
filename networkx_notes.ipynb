{
 "cells": [
  {
   "cell_type": "code",
   "execution_count": 1,
   "metadata": {
    "collapsed": true
   },
   "outputs": [],
   "source": [
    "import networkx as nx"
   ]
  },
  {
   "cell_type": "code",
   "execution_count": 3,
   "metadata": {
    "collapsed": false
   },
   "outputs": [
    {
     "name": "stdout",
     "output_type": "stream",
     "text": [
      "[1, 2, 'Spam'] [(1, 2)]\n"
     ]
    }
   ],
   "source": [
    "G = nx.Graph()\n",
    "G.add_node(\"Spam\")\n",
    "G.add_edge(1,2)\n",
    "print(G.nodes(), G.edges())"
   ]
  },
  {
   "cell_type": "code",
   "execution_count": 4,
   "metadata": {
    "collapsed": true
   },
   "outputs": [],
   "source": [
    "#the G graph above is an undirected type in nx to generate directed graphs the following syntax is applied\n",
    "D = nx.DiGraph"
   ]
  },
  {
   "cell_type": "code",
   "execution_count": 5,
   "metadata": {
    "collapsed": true
   },
   "outputs": [],
   "source": [
    "#multigraph types also exist\n",
    "#which could either be directed or undirected\n",
    "Gu = nx.MultiGraph()\n",
    "Du = nx.MultiDiGraph"
   ]
  },
  {
   "cell_type": "code",
   "execution_count": 7,
   "metadata": {
    "collapsed": true
   },
   "outputs": [],
   "source": [
    "G.add_nodes_from(['c','d','e'])\n",
    "h = nx.path_graph(5)\n",
    "G.add_nodes_from(h)"
   ]
  },
  {
   "cell_type": "code",
   "execution_count": 1,
   "metadata": {
    "collapsed": true
   },
   "outputs": [],
   "source": [
    "import nltk\n",
    "from nltk.corpus import wordnet as wn"
   ]
  },
  {
   "cell_type": "code",
   "execution_count": 3,
   "metadata": {
    "collapsed": false
   },
   "outputs": [
    {
     "data": {
      "text/plain": [
       "[Synset('boat.n.01'), Synset('gravy_boat.n.01'), Synset('boat.v.01')]"
      ]
     },
     "execution_count": 3,
     "metadata": {},
     "output_type": "execute_result"
    }
   ],
   "source": [
    "k = wn.synsets('Boat')\n",
    "k"
   ]
  },
  {
   "cell_type": "code",
   "execution_count": 57,
   "metadata": {
    "collapsed": false
   },
   "outputs": [
    {
     "data": {
      "text/plain": [
       "[Synset('canoe.v.01'),\n",
       " Synset('kayak.v.01'),\n",
       " Synset('motorboat.v.01'),\n",
       " Synset('paddle.v.01'),\n",
       " Synset('row.v.01'),\n",
       " Synset('sail.v.03'),\n",
       " Synset('yacht.v.01')]"
      ]
     },
     "execution_count": 57,
     "metadata": {},
     "output_type": "execute_result"
    }
   ],
   "source": [
    "wn.synset('boat.v.01').hyponyms()"
   ]
  },
  {
   "cell_type": "code",
   "execution_count": null,
   "metadata": {
    "collapsed": true
   },
   "outputs": [],
   "source": []
  },
  {
   "cell_type": "code",
   "execution_count": 60,
   "metadata": {
    "collapsed": false
   },
   "outputs": [
    {
     "data": {
      "text/plain": [
       "[Synset('good.n.01'),\n",
       " Synset('good.n.02'),\n",
       " Synset('good.n.03'),\n",
       " Synset('commodity.n.01'),\n",
       " Synset('good.a.01'),\n",
       " Synset('full.s.06'),\n",
       " Synset('good.a.03'),\n",
       " Synset('estimable.s.02'),\n",
       " Synset('beneficial.s.01'),\n",
       " Synset('good.s.06'),\n",
       " Synset('good.s.07'),\n",
       " Synset('adept.s.01'),\n",
       " Synset('good.s.09'),\n",
       " Synset('dear.s.02'),\n",
       " Synset('dependable.s.04'),\n",
       " Synset('good.s.12'),\n",
       " Synset('good.s.13'),\n",
       " Synset('effective.s.04'),\n",
       " Synset('good.s.15'),\n",
       " Synset('good.s.16'),\n",
       " Synset('good.s.17'),\n",
       " Synset('good.s.18'),\n",
       " Synset('good.s.19'),\n",
       " Synset('good.s.20'),\n",
       " Synset('good.s.21'),\n",
       " Synset('well.r.01'),\n",
       " Synset('thoroughly.r.02')]"
      ]
     },
     "execution_count": 60,
     "metadata": {},
     "output_type": "execute_result"
    }
   ],
   "source": [
    "wn.synsets('good')"
   ]
  },
  {
   "cell_type": "code",
   "execution_count": 67,
   "metadata": {
    "collapsed": false
   },
   "outputs": [
    {
     "data": {
      "text/plain": [
       "[Lemma('good.n.01.good')]"
      ]
     },
     "execution_count": 67,
     "metadata": {},
     "output_type": "execute_result"
    }
   ],
   "source": [
    "ll = wn.synset('good.n.01').lemmas()\n",
    "ll"
   ]
  },
  {
   "cell_type": "code",
   "execution_count": 88,
   "metadata": {
    "collapsed": false
   },
   "outputs": [
    {
     "name": "stdout",
     "output_type": "stream",
     "text": [
      "['good', 'good', 'goodness', 'good', 'goodness', 'commodity', 'trade_good', 'good', 'good', 'full', 'good', 'good', 'estimable', 'good', 'honorable', 'respectable', 'beneficial', 'good', 'good', 'good', 'just', 'upright', 'adept', 'expert', 'good', 'practiced', 'proficient', 'skillful', 'skilful', 'good', 'dear', 'good', 'near', 'dependable', 'good', 'safe', 'secure', 'good', 'right', 'ripe', 'good', 'well', 'effective', 'good', 'in_effect', 'in_force', 'good', 'good', 'serious', 'good', 'sound', 'good', 'salutary', 'good', 'honest', 'good', 'undecomposed', 'unspoiled', 'unspoilt', 'good', 'well', 'good', 'thoroughly', 'soundly', 'good'] ['evil', 'evilness', 'bad', 'badness', 'bad', 'evil', 'ill']\n"
     ]
    }
   ],
   "source": [
    "pp = []\n",
    "aa = []\n",
    "for i in wn.synsets('good'):\n",
    "    for k in i.lemmas():\n",
    "        pp.append(k.name())\n",
    "        if k.antonyms():\n",
    "            aa.append(k.antonyms()[0].name())\n",
    "print(pp, aa)"
   ]
  },
  {
   "cell_type": "code",
   "execution_count": 104,
   "metadata": {
    "collapsed": false
   },
   "outputs": [],
   "source": [
    "#nx grapph can take on any iterable as nodes and edges but edges are typically tuples\n",
    "#as well keyword args specifying weight and name cud b provided\n",
    "G.add_edge(1, 2, weight=1.5)"
   ]
  },
  {
   "cell_type": "code",
   "execution_count": 118,
   "metadata": {
    "collapsed": false
   },
   "outputs": [
    {
     "name": "stdout",
     "output_type": "stream",
     "text": [
      "9 1 True True\n"
     ]
    }
   ],
   "source": [
    "print(G.number_of_nodes(), G.number_of_edges(), G.has_node('Spam'), G.has_edge(1,2))"
   ]
  },
  {
   "cell_type": "code",
   "execution_count": 120,
   "metadata": {
    "collapsed": false
   },
   "outputs": [
    {
     "name": "stdout",
     "output_type": "stream",
     "text": [
      "Help on package networkx.algorithms in networkx:\n",
      "\n",
      "NAME\n",
      "    networkx.algorithms\n",
      "\n",
      "PACKAGE CONTENTS\n",
      "    approximation (package)\n",
      "    assortativity (package)\n",
      "    bipartite (package)\n",
      "    block\n",
      "    boundary\n",
      "    centrality (package)\n",
      "    chordal (package)\n",
      "    clique\n",
      "    cluster\n",
      "    coloring (package)\n",
      "    community (package)\n",
      "    components (package)\n",
      "    connectivity (package)\n",
      "    core\n",
      "    cycles\n",
      "    dag\n",
      "    distance_measures\n",
      "    distance_regular\n",
      "    dominance\n",
      "    dominating\n",
      "    euler\n",
      "    flow (package)\n",
      "    graphical\n",
      "    hierarchy\n",
      "    hybrid\n",
      "    isolate\n",
      "    isomorphism (package)\n",
      "    link_analysis (package)\n",
      "    link_prediction\n",
      "    matching\n",
      "    minors\n",
      "    mis\n",
      "    mst\n",
      "    operators (package)\n",
      "    richclub\n",
      "    shortest_paths (package)\n",
      "    simple_paths\n",
      "    smetric\n",
      "    swap\n",
      "    traversal (package)\n",
      "    tree (package)\n",
      "    triads\n",
      "    vitality\n",
      "\n",
      "SUBMODULES\n",
      "    all\n",
      "    astar\n",
      "    attracting\n",
      "    betweenness\n",
      "    betweenness_subset\n",
      "    biconnected\n",
      "    binary\n",
      "    breadth_first_search\n",
      "    chordal_alg\n",
      "    closeness\n",
      "    communicability_alg\n",
      "    connected\n",
      "    correlation\n",
      "    current_flow_betweenness\n",
      "    current_flow_betweenness_subset\n",
      "    current_flow_closeness\n",
      "    degree_alg\n",
      "    dense\n",
      "    depth_first_search\n",
      "    edgedfs\n",
      "    eigenvector\n",
      "    flow_matrix\n",
      "    generic\n",
      "    harmonic\n",
      "    hits_alg\n",
      "    katz\n",
      "    kclique\n",
      "    load\n",
      "    mixing\n",
      "    neighbor_degree\n",
      "    pagerank_alg\n",
      "    pairs\n",
      "    product\n",
      "    semiconnected\n",
      "    strongly_connected\n",
      "    unary\n",
      "    unweighted\n",
      "    weakly_connected\n",
      "    weighted\n",
      "\n",
      "FILE\n",
      "    c:\\users\\user\\anaconda3\\lib\\site-packages\\networkx\\algorithms\\__init__.py\n",
      "\n",
      "\n"
     ]
    }
   ],
   "source": [
    "help(nx.algorithms)"
   ]
  },
  {
   "cell_type": "code",
   "execution_count": 130,
   "metadata": {
    "collapsed": false
   },
   "outputs": [
    {
     "data": {
      "image/png": "[encoded data removed]",
      "text/plain": [
       "<matplotlib.figure.Figure at 0x106740f0>"
      ]
     },
     "metadata": {},
     "output_type": "display_data"
    }
   ],
   "source": [
    "import matplotlib.pyplot as py\n",
    "B = nx.path_graph(10)\n",
    "nx.draw(B)\n",
    "py.plot(B)\n",
    "py.show()"
   ]
  },
  {
   "cell_type": "code",
   "execution_count": 134,
   "metadata": {
    "collapsed": false
   },
   "outputs": [
    {
     "data": {
      "image/png": "[encoded data removed]",
      "text/plain": [
       "<matplotlib.figure.Figure at 0x10c766a0>"
      ]
     },
     "metadata": {},
     "output_type": "display_data"
    }
   ],
   "source": [
    "x = [1,2,3,4,5]\n",
    "y = [1,4,9,16,25]\n",
    "\n",
    "py.plot(x,y)\n",
    "\n",
    "py.show()\n",
    "\n",
    "py.savefig(\"graph.pdf\")"
   ]
  },
  {
   "cell_type": "code",
   "execution_count": null,
   "metadata": {
    "collapsed": true
   },
   "outputs": [],
   "source": []
  }
 ],
 "metadata": {
  "anaconda-cloud": {},
  "kernelspec": {
   "display_name": "Python [conda root]",
   "language": "python",
   "name": "conda-root-py"
  },
  "language_info": {
   "codemirror_mode": {
    "name": "ipython",
    "version": 3
   },
   "file_extension": ".py",
   "mimetype": "text/x-python",
   "name": "python",
   "nbconvert_exporter": "python",
   "pygments_lexer": "ipython3",
   "version": "3.5.2"
  }
 },
 "nbformat": 4,
 "nbformat_minor": 1
}
