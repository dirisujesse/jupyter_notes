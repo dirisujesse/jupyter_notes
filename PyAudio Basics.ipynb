{
 "cells": [
  {
   "cell_type": "code",
   "execution_count": 1,
   "metadata": {
    "collapsed": true
   },
   "outputs": [],
   "source": [
    "import sys\n",
    "\n",
    "import wave, pyaudio"
   ]
  },
  {
   "cell_type": "code",
   "execution_count": null,
   "metadata": {
    "collapsed": true
   },
   "outputs": [],
   "source": [
    "CHUNK = 1024\n",
    "\n",
    "if len(sys.argv) < 2:\n",
    "    print(\"Plays a wave file.\\n\\nusage:{} filename.wav\".format(sys.argv[0]))\n",
    "    sys.exit(-1)\n",
    "    \n",
    "wf = wave.open(sys.argv[1], 'rb')\n",
    "p = pyaudio.Pyaudio()\n",
    "\n",
    "stream = p.open(format=p.get_format_from_width(wf.getsampwidth()), \n",
    "               channels=wf.getchannels(),\n",
    "               frame=wf.getframerate(),\n",
    "               output=True)\n",
    "data = wf"
   ]
  }
 ],
 "metadata": {
  "anaconda-cloud": {},
  "kernelspec": {
   "display_name": "Python [default]",
   "language": "python",
   "name": "python3"
  },
  "language_info": {
   "codemirror_mode": {
    "name": "ipython",
    "version": 3
   },
   "file_extension": ".py",
   "mimetype": "text/x-python",
   "name": "python",
   "nbconvert_exporter": "python",
   "pygments_lexer": "ipython3",
   "version": "3.5.2"
  }
 },
 "nbformat": 4,
 "nbformat_minor": 1
}
