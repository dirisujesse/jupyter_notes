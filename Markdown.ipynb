{
 "cells": [
  {
   "cell_type": "markdown",
   "metadata": {},
   "source": [
    "# Markdown Tutorial\n",
    "### by Dirisu Jesse"
   ]
  },
  {
   "cell_type": "markdown",
   "metadata": {},
   "source": [
    "```javascript\n",
    "    for(var i = 0; i < 100; i++){\n",
    "        document.write(i);\n",
    "    \n",
    "```"
   ]
  },
  {
   "cell_type": "markdown",
   "metadata": {},
   "source": [
    "```javascript\n",
    "    for(var i = 0; i < 100; i++){\n",
    "        document.write(i);\n",
    "    }\n",
    "```"
   ]
  },
  {
   "cell_type": "markdown",
   "metadata": {},
   "source": [
    "Generating Unordered Lists with Markdown\n",
    "\n",
    "* Boys\n",
    "* Girls\n",
    "    * Studios\n",
    "    * Unserious"
   ]
  },
  {
   "cell_type": "markdown",
   "metadata": {},
   "source": [
    "* Boys\n",
    "* Girls\n",
    "    * Studios\n",
    "    * Unserious"
   ]
  },
  {
   "cell_type": "markdown",
   "metadata": {},
   "source": [
    "Generating Ordered Lists with Markdown\n",
    "\n",
    "1. Boys\n",
    "2. Girls\n",
    "    1. Studios\n",
    "    2. Unserious"
   ]
  },
  {
   "cell_type": "markdown",
   "metadata": {},
   "source": [
    "1. Boys\n",
    "2. Girls\n",
    "    1. Studios\n",
    "    2. Unserious"
   ]
  },
  {
   "cell_type": "markdown",
   "metadata": {},
   "source": [
    "Emphasising Text\n",
    "\n",
    "* *I am Hungry*\n",
    "* *if __name__ == __main__*\n",
    "\n",
    "\n",
    "* **I am Hungry**\n",
    "* __I am Hungry__"
   ]
  },
  {
   "cell_type": "markdown",
   "metadata": {},
   "source": [
    "* *I am Hungry*\n",
    "* *if __name__ == __main__*\n",
    "\n",
    "\n",
    "* **I am Hungry**\n",
    "* __I am Hungry__"
   ]
  },
  {
   "cell_type": "markdown",
   "metadata": {},
   "source": [
    "Block Quotes\n",
    "\n",
    "As Dirisu said:\n",
    "> All roads lead to love\n",
    ">> All roads lead to love"
   ]
  },
  {
   "cell_type": "markdown",
   "metadata": {},
   "source": [
    "As Dirisu said:\n",
    "> All roads lead to love\n",
    ">> All roads lead to love"
   ]
  },
  {
   "cell_type": "markdown",
   "metadata": {},
   "source": [
    "Creating Links\n",
    "---------\n",
    "[google.com][dl] (17kb) -- 17 Jan 2017\n",
    "[dl]: http://daringfireball.net/projects/downloads/Markdown_1.0.1.zip"
   ]
  },
  {
   "cell_type": "markdown",
   "metadata": {},
   "source": [
    "Creating Links\n",
    "---------\n",
    "[google.com][dl] (17kb) -- 17 Jan 2017\n",
    "[dl]: http://daringfireball.net/projects/downloads/Markdown_1.0.1.zip"
   ]
  },
  {
   "cell_type": "markdown",
   "metadata": {},
   "source": [
    "[syntax]: /projects/markdown/syntax\n",
    "(1) The man"
   ]
  },
  {
   "cell_type": "markdown",
   "metadata": {},
   "source": [
    "Images\n",
    "====\n",
    "![Screenshot of Movable Type 'Text Formatting' Menu][tfmenu]\n",
    "[tfmenu]: https://answers.unrealengine.com/storage/temp/17675-shadow.jpg"
   ]
  },
  {
   "cell_type": "code",
   "execution_count": null,
   "metadata": {
    "collapsed": true
   },
   "outputs": [],
   "source": []
  }
 ],
 "metadata": {
  "anaconda-cloud": {},
  "kernelspec": {
   "display_name": "Python [default]",
   "language": "python",
   "name": "python3"
  },
  "language_info": {
   "codemirror_mode": {
    "name": "ipython",
    "version": 3
   },
   "file_extension": ".py",
   "mimetype": "text/x-python",
   "name": "python",
   "nbconvert_exporter": "python",
   "pygments_lexer": "ipython3",
   "version": "3.5.2"
  }
 },
 "nbformat": 4,
 "nbformat_minor": 1
}
